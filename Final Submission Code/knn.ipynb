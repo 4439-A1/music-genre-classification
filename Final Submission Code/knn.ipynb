{
 "cells": [
  {
   "cell_type": "markdown",
   "metadata": {},
   "source": [
    "# KNN Classifier Model"
   ]
  },
  {
   "cell_type": "markdown",
   "metadata": {},
   "source": [
    "We first generate some accuracy tests using the training data, splitting it by ~0.8. Then, we fit the KNN to all training data and classify the test data. After trying multiple values, k=5 seems to work best."
   ]
  },
  {
   "cell_type": "code",
   "execution_count": 1,
   "metadata": {},
   "outputs": [],
   "source": [
    "model = \"KNN\""
   ]
  },
  {
   "cell_type": "code",
   "execution_count": 2,
   "metadata": {},
   "outputs": [],
   "source": [
    "import os\n",
    "import pandas as pd\n",
    "import librosa\n",
    "import numpy as np\n",
    "from scipy.spatial.distance import euclidean\n",
    "from collections import Counter\n",
    "import soundfile as sf\n",
    "from sklearn.model_selection import train_test_split\n",
    "from sklearn.neighbors import KNeighborsClassifier\n",
    "from scipy.stats import mode\n",
    "import csv\n",
    "from statistics import mode\n",
    "from sklearn.preprocessing import StandardScaler\n",
    "from datetime import datetime"
   ]
  },
  {
   "cell_type": "code",
   "execution_count": 3,
   "metadata": {},
   "outputs": [],
   "source": [
    "train_features = np.load(\"Processed(5)/train_features.npy\")\n",
    "test_features = np.load(\"Processed(5)/test_features.npy\")\n",
    "train_labels = np.load(\"Processed(5)/train_labels.npy\")\n",
    "unshortened_train_labels = np.load(\"Processed(5)/unshortened_train_labels.npy\")\n",
    "num_clips=10"
   ]
  },
  {
   "cell_type": "code",
   "execution_count": 6,
   "metadata": {},
   "outputs": [],
   "source": [
    "train_features = np.load(\"Processed(7)/train_features.npy\")\n",
    "test_features = np.load(\"Processed(7)/test_features.npy\")\n",
    "train_labels = np.load(\"Processed(7)/train_labels.npy\")\n",
    "unshortened_train_labels = np.load(\"Processed(7)/unshortened_train_labels.npy\")\n",
    "num_clips = 20"
   ]
  },
  {
   "cell_type": "code",
   "execution_count": 4,
   "metadata": {},
   "outputs": [],
   "source": [
    "# Split training and testing data\n",
    "# 80% for training, 20% for testing\n",
    "\n",
    "r = 0.8\n",
    "split_index = int(len(train_features) * r)\n",
    "unshortened_split_index = int(len(unshortened_train_labels) * r)\n",
    "\n",
    "X_train = np.array(train_features[:split_index])\n",
    "y_train = np.array(train_labels[:split_index])\n",
    "\n",
    "X_test = np.array(train_features[split_index:])\n",
    "y_test = np.array(unshortened_train_labels[unshortened_split_index:])"
   ]
  },
  {
   "cell_type": "code",
   "execution_count": 25,
   "metadata": {},
   "outputs": [
    {
     "name": "stdout",
     "output_type": "stream",
     "text": [
      "Classification Accuracy: 0.65625\n",
      "\n",
      "Confusion Matrix:\n",
      "Predicted  blues  classical  country  disco  hiphop  jazz  metal  pop  reggae  \\\n",
      "Actual                                                                          \n",
      "blues         17          0        1      0       0     2      0    0       2   \n",
      "classical      0         15        0      0       0     1      0    0       0   \n",
      "country        0          0        6      0       1     2      0    2       2   \n",
      "disco          0          0        0      6       1     0      5    2       0   \n",
      "hiphop         0          0        1      1       5     0      1    3       1   \n",
      "jazz           0          2        3      0       1    16      0    0       1   \n",
      "metal          0          0        0      0       1     0     14    0       0   \n",
      "pop            0          0        1      0       3     0      0   13       0   \n",
      "reggae         0          1        0      0       3     0      0    0       8   \n",
      "rock           1          0        0      1       2     0      1    1       0   \n",
      "\n",
      "Predicted  rock  \n",
      "Actual           \n",
      "blues         2  \n",
      "classical     0  \n",
      "country       1  \n",
      "disco         0  \n",
      "hiphop        1  \n",
      "jazz          0  \n",
      "metal         0  \n",
      "pop           0  \n",
      "reggae        1  \n",
      "rock          5  \n"
     ]
    }
   ],
   "source": [
    "k=100\n",
    "\n",
    "# Initialize KNN classifier\n",
    "knn = KNeighborsClassifier(n_neighbors=k)\n",
    "\n",
    "# Fit KNN classifier with training data\n",
    "knn.fit(X_train, y_train)\n",
    "\n",
    "# Predict labels for testing set\n",
    "y_pred = knn.predict(X_test)\n",
    "\n",
    "y_pred_unshortened = []\n",
    "\n",
    "# Calculate the mode for each consecutive 10 entries\n",
    "for i in range(0, len(y_pred), num_clips):\n",
    "    group = y_pred[i:i+num_clips]\n",
    "    mode_value = mode(group)\n",
    "    y_pred_unshortened.append(mode_value)\n",
    "\n",
    "# Display classification accuracy\n",
    "accuracy = np.mean(y_pred_unshortened == y_test)\n",
    "print(\"Classification Accuracy:\", accuracy)\n",
    "\n",
    "# Display confusion matrix\n",
    "confusion_matrix = pd.crosstab(y_test, y_pred_unshortened, rownames=['Actual'], colnames=['Predicted'])\n",
    "print(\"\\nConfusion Matrix:\")\n",
    "print(confusion_matrix)"
   ]
  },
  {
   "cell_type": "markdown",
   "metadata": {},
   "source": [
    "## Classify test data"
   ]
  },
  {
   "cell_type": "code",
   "execution_count": 6,
   "metadata": {},
   "outputs": [],
   "source": [
    "X_train = np.array(train_features)\n",
    "y_train = np.array(train_labels)\n",
    "\n",
    "X_test = np.array(test_features)"
   ]
  },
  {
   "cell_type": "code",
   "execution_count": 7,
   "metadata": {},
   "outputs": [
    {
     "name": "stdout",
     "output_type": "stream",
     "text": [
      "['disco', 'pop', 'country', 'blues', 'disco', 'jazz', 'disco', 'classical', 'reggae', 'disco', 'disco', 'hiphop', 'hiphop', 'metal', 'country', 'country', 'hiphop', 'disco', 'hiphop', 'hiphop', 'classical', 'disco', 'jazz', 'metal', 'blues', 'classical', 'country', 'reggae', 'country', 'disco', 'jazz', 'classical', 'country', 'country', 'hiphop', 'pop', 'reggae', 'country', 'jazz', 'country', 'pop', 'metal', 'rock', 'pop', 'jazz', 'disco', 'country', 'pop', 'blues', 'hiphop', 'disco', 'disco', 'hiphop', 'jazz', 'reggae', 'reggae', 'hiphop', 'pop', 'hiphop', 'country', 'classical', 'country', 'country', 'country', 'pop', 'rock', 'pop', 'country', 'rock', 'hiphop', 'rock', 'metal', 'classical', 'metal', 'country', 'rock', 'disco', 'jazz', 'pop', 'blues', 'pop', 'disco', 'reggae', 'blues', 'reggae', 'rock', 'classical', 'disco', 'rock', 'disco', 'reggae', 'classical', 'disco', 'metal', 'rock', 'classical', 'pop', 'blues', 'pop', 'reggae', 'reggae', 'reggae', 'pop', 'disco', 'classical', 'pop', 'hiphop', 'pop', 'reggae', 'classical', 'jazz', 'country', 'blues', 'jazz', 'country', 'rock', 'classical', 'disco', 'country', 'jazz', 'hiphop', 'rock', 'disco', 'disco', 'classical', 'jazz', 'disco', 'jazz', 'metal', 'jazz', 'classical', 'reggae', 'disco', 'blues', 'disco', 'disco', 'hiphop', 'disco', 'rock', 'classical', 'disco', 'reggae', 'reggae', 'disco', 'rock', 'reggae', 'reggae', 'blues', 'metal', 'disco', 'jazz', 'reggae', 'reggae', 'rock', 'metal', 'disco', 'hiphop', 'jazz', 'blues', 'country', 'pop', 'classical', 'disco', 'country', 'disco', 'disco', 'disco', 'country', 'jazz', 'disco', 'pop', 'pop', 'reggae', 'metal', 'blues', 'reggae', 'reggae', 'reggae', 'metal', 'disco', 'rock', 'metal', 'classical', 'reggae', 'disco', 'disco', 'disco', 'country', 'hiphop', 'reggae', 'pop', 'rock', 'disco', 'pop', 'blues', 'jazz', 'reggae', 'rock', 'metal', 'disco']\n"
     ]
    }
   ],
   "source": [
    "# Initialize KNN classifier\n",
    "knn_test = KNeighborsClassifier(n_neighbors=k)\n",
    "\n",
    "# Fit KNN classifier with training data\n",
    "knn_test.fit(X_train, y_train)\n",
    "\n",
    "# Predict labels for testing set\n",
    "y_pred = knn_test.predict(X_test)\n",
    "\n",
    "y_pred_unshortened = []\n",
    "\n",
    "# Calculate the mode for each consecutive 10 entries\n",
    "for i in range(0, len(y_pred), 10):\n",
    "    group = y_pred[i:i+10]\n",
    "    mode_value = mode(group)\n",
    "    y_pred_unshortened.append(mode_value)\n",
    "    \n",
    "print(y_pred_unshortened)"
   ]
  },
  {
   "cell_type": "markdown",
   "metadata": {},
   "source": [
    "## Submission"
   ]
  },
  {
   "cell_type": "code",
   "execution_count": 41,
   "metadata": {},
   "outputs": [],
   "source": [
    "if not os.path.isdir(\"Submissions/\"): os.mkdir(\"Submissions\")\n",
    "\n",
    "current_datetime = datetime.now().strftime(\"%Y%m%d_%H%M%S\")\n",
    "\n",
    "with open(f\"Submissions/submission_{model}_{current_datetime}.csv\", 'w', newline='') as csvfile:\n",
    "    csvwriter = csv.writer(csvfile)\n",
    "    csvwriter.writerow(['ID', 'Genre'])\n",
    "    \n",
    "    for i in range(len(y_pred_unshortened)):\n",
    "        filename = f\"test{i:03d}.wav\"\n",
    "        prediction = [filename , y_pred_unshortened[i]]\n",
    "        csvwriter.writerow(prediction)"
   ]
  }
 ],
 "metadata": {
  "kernelspec": {
   "display_name": "Python 3",
   "language": "python",
   "name": "python3"
  },
  "language_info": {
   "codemirror_mode": {
    "name": "ipython",
    "version": 3
   },
   "file_extension": ".py",
   "mimetype": "text/x-python",
   "name": "python",
   "nbconvert_exporter": "python",
   "pygments_lexer": "ipython3",
   "version": "3.9.18"
  }
 },
 "nbformat": 4,
 "nbformat_minor": 2
}
